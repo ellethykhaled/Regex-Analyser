{
 "cells": [
  {
   "cell_type": "code",
   "execution_count": 1,
   "metadata": {},
   "outputs": [
    {
     "name": "stdout",
     "output_type": "stream",
     "text": [
      "\n",
      "Valid regex\n",
      "\n",
      "Characters to parse: [('(', 0, None), ('a', 1, '|'), ('b', 1, None), (')', 0, '*'), ('a', 0, None), ('b', 0, None), ('b', 0, None)] \n",
      "\n",
      "Terminating State: ('S13', True, []) \n",
      "\n",
      "NFA states:  [('S0', False, [('ε', 'S3'), ('ε', 'S5'), ('ε', 'S1')]), ('S1', False, [('ε', 'S8')]), ('S2', False, [('ε', 'S1'), ('ε', 'S0')]), ('S3', False, [('a', 'S4')]), ('S4', False, [('ε', 'S2')]), ('S5', False, [('b', 'S6')]), ('S6', False, [('ε', 'S2')]), ('S7', False, [('ε', 'S11')]), ('S8', False, [('a', 'S9')]), ('S9', False, [('ε', 'S7')]), ('S10', False, [('ε', 'S14')]), ('S11', False, [('b', 'S12')]), ('S12', False, [('ε', 'S10')]), ('S13', True, []), ('S14', False, [('b', 'S15')]), ('S15', False, [('ε', 'S13')])] \n",
      "\n",
      "Input regex:  (a|b)*abb\n",
      "\n",
      "Epsilonless states: {'S0': (False, [('a', 'S4'), ('b', 'S6'), ('a', 'S9')]), 'S4': (False, [('a', 'S4'), ('b', 'S6'), ('a', 'S9')]), 'S6': (False, [('a', 'S4'), ('b', 'S6'), ('a', 'S9')]), 'S9': (False, [('b', 'S12')]), 'S12': (False, [('b', 'S15')]), 'S15': (True, [])}\n",
      "\n",
      "Dfa states: {'S0': (False, [('b', 'S1'), ('a', 'S2')]), 'S1': (False, [('b', 'S1'), ('a', 'S2')]), 'S2': (False, [('b', 'S3'), ('a', 'S2')]), 'S3': (False, [('b', 'S4'), ('a', 'S2')]), 'S4': (True, [('b', 'S1'), ('a', 'S2')])}\n",
      "\n",
      "Initially non-accepting states: ['S4']\n",
      "\n",
      "Initially accepting states: ['S0', 'S1', 'S2', 'S3']\n",
      "\n",
      "Final groups: [['S4'], ['S0', 'S1'], ['S3'], ['S2']]\n",
      "\n",
      "Minimized Dfa: {'S0': (False, [('b', 'S0'), ('a', 'S2')]), 'S2': (False, [('b', 'S3'), ('a', 'S2')]), 'S3': (False, [('b', 'S4'), ('a', 'S2')]), 'S4': (True, [('b', 'S0'), ('a', 'S2')])}\n"
     ]
    }
   ],
   "source": [
    "from NFA_creator import nfaFlow as nfa\n",
    "from DFA_creator import dfaFlow as dfa\n",
    "from DFA_minimizer import minimizedDfaFlow as mdfa\n",
    "def allFlow():\n",
    "    if nfa() == True:\n",
    "        mdfa(dfa())\n",
    "allFlow()"
   ]
  },
  {
   "cell_type": "code",
   "execution_count": null,
   "metadata": {},
   "outputs": [],
   "source": []
  }
 ],
 "metadata": {
  "kernelspec": {
   "display_name": "base",
   "language": "python",
   "name": "python3"
  },
  "language_info": {
   "codemirror_mode": {
    "name": "ipython",
    "version": 3
   },
   "file_extension": ".py",
   "mimetype": "text/x-python",
   "name": "python",
   "nbconvert_exporter": "python",
   "pygments_lexer": "ipython3",
   "version": "3.9.12"
  },
  "orig_nbformat": 4
 },
 "nbformat": 4,
 "nbformat_minor": 2
}
